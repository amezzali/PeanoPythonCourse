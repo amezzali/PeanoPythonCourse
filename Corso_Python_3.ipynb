{
 "cells": [
  {
   "cell_type": "markdown",
   "metadata": {},
   "source": [
    "## Learning by doing!\n",
    "\n",
    "Il miglior modo di imparare? Fare esercizi assieme!"
   ]
  },
  {
   "cell_type": "markdown",
   "metadata": {},
   "source": [
    "#### Esercizio 1\n",
    "\n",
    "Scrivere un programma che trova tutti i numeri divisibili da 7 che non sono multipli di 5, compresi tra 1000 e 3455.\n",
    "\n",
    "Il risultato deve essere scritto come sequenza di numeri separati da virgole."
   ]
  },
  {
   "cell_type": "code",
   "execution_count": 14,
   "metadata": {},
   "outputs": [
    {
     "name": "stdout",
     "output_type": "stream",
     "text": [
      "1001\n"
     ]
    }
   ],
   "source": [
    "l=[]                          # lista \n",
    "for i in range(1000, 1005):   # metodo range\n",
    "    if (i%7==0) and (i%5!=0): # if condition\n",
    "        l.append(str(i))      # aggiungere un elemento ad una lista\n",
    "\n",
    "print(','.join(l))            # join"
   ]
  },
  {
   "cell_type": "markdown",
   "metadata": {},
   "source": [
    "#### come cercare aiuto\n",
    "\n",
    "**dir** ed **help** sono fondamentali"
   ]
  },
  {
   "cell_type": "code",
   "execution_count": 13,
   "metadata": {},
   "outputs": [
    {
     "data": {
      "text/plain": [
       "['__add__',\n",
       " '__class__',\n",
       " '__contains__',\n",
       " '__delattr__',\n",
       " '__dir__',\n",
       " '__doc__',\n",
       " '__eq__',\n",
       " '__format__',\n",
       " '__ge__',\n",
       " '__getattribute__',\n",
       " '__getitem__',\n",
       " '__getnewargs__',\n",
       " '__gt__',\n",
       " '__hash__',\n",
       " '__init__',\n",
       " '__init_subclass__',\n",
       " '__iter__',\n",
       " '__le__',\n",
       " '__len__',\n",
       " '__lt__',\n",
       " '__mod__',\n",
       " '__mul__',\n",
       " '__ne__',\n",
       " '__new__',\n",
       " '__reduce__',\n",
       " '__reduce_ex__',\n",
       " '__repr__',\n",
       " '__rmod__',\n",
       " '__rmul__',\n",
       " '__setattr__',\n",
       " '__sizeof__',\n",
       " '__str__',\n",
       " '__subclasshook__',\n",
       " 'capitalize',\n",
       " 'casefold',\n",
       " 'center',\n",
       " 'count',\n",
       " 'encode',\n",
       " 'endswith',\n",
       " 'expandtabs',\n",
       " 'find',\n",
       " 'format',\n",
       " 'format_map',\n",
       " 'index',\n",
       " 'isalnum',\n",
       " 'isalpha',\n",
       " 'isdecimal',\n",
       " 'isdigit',\n",
       " 'isidentifier',\n",
       " 'islower',\n",
       " 'isnumeric',\n",
       " 'isprintable',\n",
       " 'isspace',\n",
       " 'istitle',\n",
       " 'isupper',\n",
       " 'join',\n",
       " 'ljust',\n",
       " 'lower',\n",
       " 'lstrip',\n",
       " 'maketrans',\n",
       " 'partition',\n",
       " 'replace',\n",
       " 'rfind',\n",
       " 'rindex',\n",
       " 'rjust',\n",
       " 'rpartition',\n",
       " 'rsplit',\n",
       " 'rstrip',\n",
       " 'split',\n",
       " 'splitlines',\n",
       " 'startswith',\n",
       " 'strip',\n",
       " 'swapcase',\n",
       " 'title',\n",
       " 'translate',\n",
       " 'upper',\n",
       " 'zfill']"
      ]
     },
     "execution_count": 13,
     "metadata": {},
     "output_type": "execute_result"
    }
   ],
   "source": [
    "dir('a')"
   ]
  },
  {
   "cell_type": "code",
   "execution_count": 12,
   "metadata": {},
   "outputs": [
    {
     "name": "stdout",
     "output_type": "stream",
     "text": [
      "Help on built-in function join:\n",
      "\n",
      "join(...) method of builtins.str instance\n",
      "    S.join(iterable) -> str\n",
      "    \n",
      "    Return a string which is the concatenation of the strings in the\n",
      "    iterable.  The separator between elements is S.\n",
      "\n"
     ]
    }
   ],
   "source": [
    "help('a'.join)"
   ]
  },
  {
   "cell_type": "markdown",
   "metadata": {},
   "source": [
    "#### Esercizio 2\n",
    "\n",
    "creare un programma che, dato un numero in input, restituisca il fattoriale\n",
    "\n"
   ]
  },
  {
   "cell_type": "code",
   "execution_count": 159,
   "metadata": {},
   "outputs": [
    {
     "name": "stdout",
     "output_type": "stream",
     "text": [
      "13\n",
      "6227020800\n"
     ]
    }
   ],
   "source": [
    "# utilizziamo le funzioni!\n",
    "\n",
    "def fact(x):\n",
    "    if x == 0:\n",
    "        return 1                  # condizione di return\n",
    "    return x * fact(x - 1)\n",
    "\n",
    "x=int(input())                    # input()\n",
    "print(fact(x))\n"
   ]
  },
  {
   "cell_type": "markdown",
   "metadata": {},
   "source": [
    "#### Esercizio 3\n",
    "\n",
    "Scrivere un programma che accetti da console una stringa di numeri separati dalla virgola e scriva una lista che contiene ciascun numero.\n",
    "\n",
    "Ad esempio:\n",
    "\n",
    "input --> 34,67,55,33,12,98\n",
    "output --> ['34', '67', '55', '33', '12', '98']\n"
   ]
  },
  {
   "cell_type": "code",
   "execution_count": 25,
   "metadata": {},
   "outputs": [
    {
     "name": "stdout",
     "output_type": "stream",
     "text": [
      "12,34,1,1,233\n",
      "['12', '34', '1', '1', '233']\n"
     ]
    }
   ],
   "source": [
    "values=input()\n",
    "l=values.split(\",\")              # split\n",
    "print(l)"
   ]
  },
  {
   "cell_type": "markdown",
   "metadata": {},
   "source": [
    "#### Esercizio 4\n",
    "\n",
    "Scrivere un programma che, dato un numero in input, stabilisca se è primo."
   ]
  },
  {
   "cell_type": "code",
   "execution_count": 144,
   "metadata": {},
   "outputs": [
    {
     "name": "stdout",
     "output_type": "stream",
     "text": [
      "12344\n",
      "Il numero 12344 è divisibile per 2\n"
     ]
    }
   ],
   "source": [
    "import math as mt\n",
    "\n",
    "n = int(input())\n",
    "nsqrt = int(mt.sqrt(n))\n",
    "condition = True\n",
    "\n",
    "for i in range(2,nsqrt+1):\n",
    "    if n % i == 0:\n",
    "        print('Il numero {} è divisibile per {}'.format(n, i))\n",
    "        condition = False\n",
    "        break\n",
    "    \n",
    "if condition == True:\n",
    "    print('Il numero {} è primo'.format(n))"
   ]
  },
  {
   "cell_type": "markdown",
   "metadata": {},
   "source": [
    "#### Esercizio Importante!\n",
    "\n",
    "costruire due liste, una con i numeri interi tra -10 e 10, l'altra con i quadrati degli interi tra -10 e 10."
   ]
  },
  {
   "cell_type": "code",
   "execution_count": 177,
   "metadata": {},
   "outputs": [
    {
     "name": "stdout",
     "output_type": "stream",
     "text": [
      "[-10, -9, -8, -7, -6, -5, -4, -3, -2, -1, 0, 1, 2, 3, 4, 5, 6, 7, 8, 9] \n",
      " [100, 81, 64, 49, 36, 25, 16, 9, 4, 1, 0, 1, 4, 9, 16, 25, 36, 49, 64, 81]\n"
     ]
    }
   ],
   "source": [
    "x = []\n",
    "for i in range(-10,10):\n",
    "    x.append(i)\n",
    "\n",
    "y = []\n",
    "for i in range(-10,10):\n",
    "    y.append(i**2)\n",
    "    \n",
    "print(x,'\\n',y)"
   ]
  },
  {
   "cell_type": "code",
   "execution_count": 175,
   "metadata": {},
   "outputs": [
    {
     "name": "stdout",
     "output_type": "stream",
     "text": [
      "[-10, -9, -8, -7, -6, -5, -4, -3, -2, -1, 0, 1, 2, 3, 4, 5, 6, 7, 8, 9] \n",
      " [100, 81, 64, 49, 36, 25, 16, 9, 4, 1, 0, 1, 4, 9, 16, 25, 36, 49, 64, 81]\n"
     ]
    }
   ],
   "source": [
    "# altro modo! velocissimo!!\n",
    "\n",
    "x = [i for i in range(-10,10)]\n",
    "\n",
    "y = [i**2 for i in x]\n",
    "\n",
    "print(x,'\\n',y)"
   ]
  },
  {
   "cell_type": "markdown",
   "metadata": {},
   "source": [
    "## Dizionari\n",
    "\n",
    "- raccolta di **chiave-valore**\n",
    "- esempio: elenco del telefono\n",
    "\n",
    "pippo : 33912312322\n",
    "papero : 2233112233\n",
    "\n",
    "- inizializzo con\n",
    "\n",
    "    mydict = dict()\n",
    "\n",
    "oppure\n",
    "    \n",
    "    mydict = {}\n",
    "    \n",
    "esempio di utilizzo:\n",
    "    \n",
    "    eng2it = {'one': 'uno', 'two': 'due', 'three': 'tre'}\n",
    "\n",
    "    'one' in eng2it\n",
    "    True\n",
    "    'uno' in eng2it\n",
    "    False\n",
    "    \n",
    "Per controllare invece se qualcosa compare come valore, potete usare il metodo values, che restituisce una raccolta dei valori, e quindi usare l’operatore in:\n",
    "    \n",
    "    vals = eng2it.values()\n",
    "    'uno' in vals\n",
    "    True"
   ]
  },
  {
   "cell_type": "markdown",
   "metadata": {},
   "source": [
    "#### Esercizio 5\n",
    "\n",
    "generare un dizionario le cui chiavi sono i primi n numeri naturali e i valori i loro quadrati.\n",
    "\n",
    "Ad esempio, l'output deve essere qualcosa tipo:\n",
    "\n",
    "{1: 1, 2: 4, 3: 9, 4: 16, 5: 25, 6: 36, 7: 49, 8: 64}\n"
   ]
  },
  {
   "cell_type": "code",
   "execution_count": 128,
   "metadata": {},
   "outputs": [
    {
     "name": "stdout",
     "output_type": "stream",
     "text": [
      "5\n",
      "{1: 1, 2: 4, 3: 9, 4: 16, 5: 25}\n"
     ]
    }
   ],
   "source": [
    "n=int(input())\n",
    "d=dict()\n",
    "for i in range(1,n+1):\n",
    "    d[i]=i*i\n",
    "\n",
    "print(d)"
   ]
  }
 ],
 "metadata": {
  "kernelspec": {
   "display_name": "Python 3",
   "language": "python",
   "name": "python3"
  },
  "language_info": {
   "codemirror_mode": {
    "name": "ipython",
    "version": 3
   },
   "file_extension": ".py",
   "mimetype": "text/x-python",
   "name": "python",
   "nbconvert_exporter": "python",
   "pygments_lexer": "ipython3",
   "version": "3.6.2"
  }
 },
 "nbformat": 4,
 "nbformat_minor": 2
}
