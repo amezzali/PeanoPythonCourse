{
 "cells": [
  {
   "cell_type": "markdown",
   "metadata": {},
   "source": [
    "## Introduzione\n",
    "\n",
    "### Sorgente\n",
    "\n",
    "L'articolo originale è:\n",
    "\n",
    "Hubble, E. (1929) \"A Relationship Between Distance and Radial Velocity among Extra-Galactic Nebulae,\" Proceedings of the National Academy of Science, 168.\n",
    "\n",
    "##### Note\n",
    "\n",
    "- 1 megaparsec = 3,260,000 anni luce;\n",
    "- Il metodo della regressione lineare è anche detto *dei minimi quadrati*.\n",
    "\n",
    "\n",
    "### Dataset\n",
    "\n",
    "I Dati sono contenuti in un file .csv (*comma separated values*) formato da due colonne:\n",
    "\n",
    "1. distance: Distance (in Megaparsecs) from earth\n",
    "2. recession_velocity: The recesson velocity (in km/sec)\n",
    "\n",
    "### Passi necessari per l'analisi:\n",
    "\n",
    "1. Importare i dati in python\n",
    "2. Visualizzare i dati\n",
    "3. Preparare le formule per la regressione lineare\n",
    "4. Calcolare i coefficienti della retta\n",
    "5. Stima dell'errore\n",
    "6. Estensione del dataset\n",
    "\n",
    "### Librerie necessarie\n",
    "\n",
    "- numpy\n",
    "- matplotlib"
   ]
  },
  {
   "cell_type": "markdown",
   "metadata": {},
   "source": [
    "## Import delle librerie"
   ]
  },
  {
   "cell_type": "code",
   "execution_count": 1,
   "metadata": {
    "collapsed": true
   },
   "outputs": [],
   "source": [
    "import numpy as np\n",
    "\n",
    "import matplotlib.pyplot as plt\n",
    "%matplotlib inline"
   ]
  },
  {
   "cell_type": "markdown",
   "metadata": {},
   "source": [
    "## Import del dataset "
   ]
  },
  {
   "cell_type": "code",
   "execution_count": 2,
   "metadata": {},
   "outputs": [
    {
     "name": "stdout",
     "output_type": "stream",
     "text": [
      "[[  3.20000000e-02   1.70000000e+02]\n",
      " [  3.40000000e-02   2.90000000e+02]]\n",
      "<class 'numpy.ndarray'>\n"
     ]
    }
   ],
   "source": [
    "\n",
    "dataset = np.loadtxt(\"HubbleDataset.csv\", delimiter=',',skiprows=1)\n",
    "\n",
    "print(dataset[:2])\n",
    "\n",
    "print(type(dataset))"
   ]
  },
  {
   "cell_type": "markdown",
   "metadata": {},
   "source": [
    "## Visualizzazione"
   ]
  },
  {
   "cell_type": "code",
   "execution_count": 3,
   "metadata": {},
   "outputs": [
    {
     "data": {
      "image/png": "[encoded data removed]",
      "text/plain": [
       "<matplotlib.figure.Figure at 0x7fa631633828>"
      ]
     },
     "metadata": {},
     "output_type": "display_data"
    }
   ],
   "source": [
    "import matplotlib.pyplot as plt\n",
    "%matplotlib inline\n",
    "\n",
    "x = dataset[:,0]    # selezioniamo la prima colonna\n",
    "y = dataset[:,1]    # selezioniamo la seconda\n",
    "\n",
    "plt.scatter(x,y)    # plot dei vari punti \n",
    "plt.scatter(0.0,0.0,color='r')    # aggiungiamo un nuovo punto, in rosso, rappresentante la Terra\n",
    "\n",
    "plt.xlabel('distanza (Megaparsecs)')\n",
    "plt.ylabel('velocità di recessione (km/sec)')\n",
    "\n",
    "plt.title('Hubble Law Data')\n",
    "\n",
    "plt.show()"
   ]
  },
  {
   "cell_type": "code",
   "execution_count": 4,
   "metadata": {},
   "outputs": [
    {
     "data": {
      "image/png": "[encoded data removed]",
      "text/plain": [
       "<matplotlib.figure.Figure at 0x7fa6313550f0>"
      ]
     },
     "metadata": {},
     "output_type": "display_data"
    }
   ],
   "source": [
    "## Evidenziamo colori diversi\n",
    "\n",
    "dataPos = dataset[np.where(dataset[:,1]>0)]\n",
    "dataNeg = dataset[np.where(dataset[:,1]<0)]\n",
    "\n",
    "xPos, yPos = dataPos[:,0], dataPos[:,1]\n",
    "xNeg, yNeg = dataNeg[:,0], dataNeg[:,1]\n",
    "\n",
    "plt.scatter(xPos,yPos)    # plot dei vari punti Positivi\n",
    "plt.scatter(xNeg,yNeg, color='g')    # plot dei vari punti Negativi\n",
    "plt.scatter(0.0,0.0, color='r')    # aggiungiamo un nuovo punto, in rosso, rappresentante la Terra\n",
    "\n",
    "plt.xlabel('distanza (Megaparsecs)')\n",
    "plt.ylabel('velocità di recessione (km/sec)')\n",
    "\n",
    "plt.title('Hubble Law Data')\n",
    "\n",
    "plt.show()\n",
    "\n"
   ]
  },
  {
   "cell_type": "markdown",
   "metadata": {},
   "source": [
    "### Un po' di matematica\n",
    "\n",
    "Il problema è trovare la retta che predica al meglio i dati che abbiamo. Scegliamo la retta perché è il modello\n",
    "più semplice. A complicare le cose c'è sempre tempo :D\n",
    "\n",
    "Il modello lineare è \n",
    "\n",
    "$$\n",
    "Y = a + b X\n",
    "$$\n",
    "\n",
    "\n",
    "con $X$ i dati in ascissa e $Y$ i dati in ordinata. Nel nostro caso si tratta, rispettivamente di distanza e velocità.\n",
    "\n",
    "Il problema si traduce quindi in trovare i valori dei parametri $a$ e $b$ tali da minimizzare la seguente **funzione di Costo** $C$\n",
    "\n",
    "$$\n",
    "C = \\sum_{i=1}^n (Y_i-\\hat{Y}_i)^2\n",
    "$$\n",
    "\n",
    "dove $\\hat{Y}_i$ rappresenta il dato previsto dal modello lineare e $n$ è il numero totale di righe (punti) nel nostro dataset.\n",
    "\n",
    "Facendo due conti con derivate e sommatorie, si può mostrare che (spero di averlo fatto a lezione):\n",
    "\n",
    "$$\n",
    "b =\n",
    "\\frac{\n",
    "    \\sum_{i=1}^n ( X_i - \\bar{X} )(Y_i - \\bar{Y})\n",
    "}{\n",
    "    \\sum_{i=1}^n ( X_i - \\bar{X} )^2\n",
    "}\n",
    "$$\n",
    "e\n",
    "$$\n",
    "a = \\bar{Y} - b \\bar{X}\n",
    "$$\n",
    "\n",
    "dove le quantità con la barra in alto rappresentano le **quantità medie**\n",
    "\n",
    "$$\n",
    "\\bar{X} = \\frac{1}{n}\\sum_{i=1}^n X_i\n",
    "\\ ; \\qquad\\qquad\n",
    "\\bar{Y} = \\frac{1}{n}\\sum_{i=1}^n Y_i\n",
    "$$\n",
    "\n",
    "Non ci resta che calcolare i coefficienti con Python o Numpy. "
   ]
  },
  {
   "cell_type": "code",
   "execution_count": 6,
   "metadata": {},
   "outputs": [
    {
     "name": "stdout",
     "output_type": "stream",
     "text": [
      "0.911375 373.125\n",
      "Il numeratore è 4352.33, il denominatore è 9.58, quindi b=454.16\n",
      "a=-40.78\n"
     ]
    }
   ],
   "source": [
    "x = dataset[:,0]    # selezioniamo la prima colonna\n",
    "y = dataset[:,1]    # selezioniamo la seconda\n",
    "\n",
    "# calcolo le medie\n",
    "\n",
    "tot = 0\n",
    "for i in x:\n",
    "    tot += i\n",
    "xMean0 = tot/len(x)\n",
    "\n",
    "tot = 0\n",
    "for i in y:\n",
    "    tot += i\n",
    "yMean0 = tot/len(y)\n",
    "\n",
    "print(xMean0, yMean0)\n",
    "\n",
    "\n",
    "# Calcolo ora b, per prima cosa calcolo il numeratore\n",
    "\n",
    "datasetLen = len(x)\n",
    "\n",
    "bNum = 0\n",
    "for i in range(datasetLen):\n",
    "    xi = x[i]\n",
    "    yi = y[i]\n",
    "    bNum += (xi-xMean0)*(yi-yMean0)\n",
    "\n",
    "bDen = 0\n",
    "for i in range(datasetLen):\n",
    "    xi = x[i]\n",
    "    yi = y[i]\n",
    "    bDen += (xi-xMean0)**2\n",
    "\n",
    "print(\"Il numeratore è {0:.2f}, il denominatore è {1:.2f}, quindi b={2:.2f}\".format(bNum,bDen,bNum/bDen))\n",
    "\n",
    "b = bNum/bDen\n",
    "\n",
    "a = yMean0 - b*xMean0\n",
    "\n",
    "print(\"a={0:.2f}\".format(a))\n"
   ]
  },
  {
   "cell_type": "code",
   "execution_count": 7,
   "metadata": {},
   "outputs": [
    {
     "name": "stdout",
     "output_type": "stream",
     "text": [
      "0.0 0.0\n",
      "Con numpy, Il numeratore è 4352.33, il denominatore è 9.58, quindi b=454.16\n",
      "a=-40.78\n"
     ]
    }
   ],
   "source": [
    "# rifaccio lo stesso conto con numpy\n",
    "\n",
    "xMean = np.mean(x)\n",
    "yMean = np.mean(y)\n",
    "\n",
    "print(xMean0-xMean, yMean0-yMean)\n",
    "\n",
    "# Calcolo ora b con numpy\n",
    "\n",
    "bNumerator = np.sum(np.multiply((x-xMean),(y-yMean)))\n",
    "bDenominator = np.sum(np.power(x-xMean,2))\n",
    "\n",
    "\n",
    "print(\"Con numpy, Il numeratore è {0:.2f}, il denominatore è {1:.2f}, quindi b={2:.2f}\"\\\n",
    "      .format(bNumerator,bDenominator,bNumerator/bDenominator))\n",
    "\n",
    "b = bNumerator/bDenominator\n",
    "\n",
    "# calcoliamo a\n",
    "\n",
    "a = yMean - b*xMean\n",
    "\n",
    "print(\"a={0:.2f}\".format(a))"
   ]
  },
  {
   "cell_type": "code",
   "execution_count": 8,
   "metadata": {},
   "outputs": [
    {
     "data": {
      "image/png": "[encoded data removed]",
      "text/plain": [
       "<matplotlib.figure.Figure at 0x7fa629d3e5c0>"
      ]
     },
     "metadata": {},
     "output_type": "display_data"
    }
   ],
   "source": [
    "# Plottiamo il risultato!\n",
    "\n",
    "xR = np.linspace(min(x),max(x),2)\n",
    "yR = a + b*xR\n",
    "\n",
    "plt.plot(xR,yR,'purple')\n",
    "\n",
    "plt.scatter(x,y)    # plot dei vari punti \n",
    "plt.scatter(0.0,0.0,color='r')    # aggiungiamo un nuovo punto, in rosso, rappresentante la Terra\n",
    "\n",
    "plt.xlabel('distanza (Megaparsecs)')\n",
    "plt.ylabel('velocità di recessione (km/sec)')\n",
    "\n",
    "plt.title('Hubble Law Data')\n",
    "\n",
    "plt.show()"
   ]
  },
  {
   "cell_type": "code",
   "execution_count": 9,
   "metadata": {},
   "outputs": [
    {
     "data": {
      "text/plain": [
       "<function matplotlib.pyplot.show>"
      ]
     },
     "execution_count": 9,
     "metadata": {},
     "output_type": "execute_result"
    },
    {
     "data": {
      "image/png": "[encoded data removed]",
      "text/plain": [
       "<matplotlib.figure.Figure at 0x7fa629d47eb8>"
      ]
     },
     "metadata": {},
     "output_type": "display_data"
    }
   ],
   "source": [
    "# mostriamo graficamente che il b trovato minimizza la funzione di costo C\n",
    "\n",
    "C0 = np.sum( np.multiply((y - a-b*x),(y - a-b*x)))\n",
    "\n",
    "bx = b - np.linspace(-500,500,500)\n",
    "\n",
    "Clist = []\n",
    "\n",
    "for bi in bx:\n",
    "    ClistI = np.sum( np.multiply((y - a-bi*x),(y - a-bi*x)))\n",
    "    Clist.append(ClistI)\n",
    "    \n",
    "plt.plot(bx, Clist)\n",
    "plt.plot(b,C0,'rp')\n",
    "\n",
    "plt.xlabel('valore di b')\n",
    "plt.ylabel('funzione di Costo')\n",
    "\n",
    "plt.title('C in funzione di b')\n",
    "\n",
    "plt.show"
   ]
  },
  {
   "cell_type": "code",
   "execution_count": 30,
   "metadata": {},
   "outputs": [
    {
     "name": "stdout",
     "output_type": "stream",
     "text": [
      "['0M', '10M', '20M', '30M', '40M', '50M', '60M', '70M', '80M', '90M']\n"
     ]
    },
    {
     "data": {
      "text/plain": [
       "<function matplotlib.pyplot.show>"
      ]
     },
     "execution_count": 30,
     "metadata": {},
     "output_type": "execute_result"
    },
    {
     "data": {
      "image/png": "[encoded data removed]",
      "text/plain": [
       "<matplotlib.figure.Figure at 0x7fa629d9b9b0>"
      ]
     },
     "metadata": {},
     "output_type": "display_data"
    }
   ],
   "source": [
    "# mostriamo graficamente che il b trovato minimizza la funzione di costo C\n",
    "\n",
    "C0 = np.sum( np.multiply((y - a-b*x),(y - a-b*x)))\n",
    "\n",
    "bx = b - np.linspace(-500,500,500)\n",
    "\n",
    "Clist = []\n",
    "\n",
    "for bi in bx:\n",
    "    ClistI = np.sum( np.multiply((y - a-bi*x),(y - a-bi*x)))\n",
    "    Clist.append(ClistI)\n",
    "    \n",
    "fig, ax = plt.subplots(figsize=(8, 6))   # inizializzo il plot e specifico le dimensioni della\n",
    "                                         # figura (primo numero: dimensione orizzontale e secondo dim verticale)\n",
    "\n",
    "plt.plot(bx, Clist)\n",
    "plt.plot(b,C0,'rp')\n",
    "\n",
    "plt.xlabel('valore di b')\n",
    "plt.ylabel('funzione di Costo')\n",
    "\n",
    "locs, labels = plt.yticks() # mi copio dentro locs i punti generati per le tacchette orizzontali \n",
    "print(locs)\n",
    "print([str(int(i/100000))+'M' for i in locs]) # li cambio!\n",
    "\n",
    "plt.yticks(locs,[str(int(i/100000))+'M' for i in locs])\n",
    "\n",
    "plt.title('C in funzione di b')\n",
    "\n",
    "plt.show"
   ]
  },
  {
   "cell_type": "markdown",
   "metadata": {},
   "source": [
    "### Stimiamo l'errore\n",
    "\n",
    "E' possibile ipotizzare una distribuzione *normale* delle misure, in questo caso l'errore stimato può essere calcolato tramite la formula seguente:\n",
    "\n",
    "$$\n",
    "\\sigma_{est} = \\sqrt{\\frac{\\sum_{i=1}^n(Y_i-\\hat{Y}_i)^2}{n-2}}\n",
    "$$\n",
    "\n",
    "Purtroppo serve un po' di statistica per riuscire a discutere questo risultato. Spero di arrivarci!\n",
    "\n",
    "Intanto facciamo il conto. L'errore trovato sarà l'errore sulla stima della velocità e sarà ovviamente misurato \n",
    "in km/sec."
   ]
  },
  {
   "cell_type": "code",
   "execution_count": 122,
   "metadata": {},
   "outputs": [
    {
     "data": {
      "text/plain": [
       "232.9106701830066"
      ]
     },
     "execution_count": 122,
     "metadata": {},
     "output_type": "execute_result"
    }
   ],
   "source": [
    "somma = 0\n",
    "for i in range(len(y)):\n",
    "    #print(i)\n",
    "    somma += (y[i] - a-b*x[i])**2\n",
    "\n",
    "sigmaEst = np.sqrt(somma/(len(y)-2))\n",
    "sigmaEst"
   ]
  },
  {
   "cell_type": "code",
   "execution_count": 124,
   "metadata": {},
   "outputs": [
    {
     "data": {
      "text/plain": [
       "232.9106701830066"
      ]
     },
     "execution_count": 124,
     "metadata": {},
     "output_type": "execute_result"
    }
   ],
   "source": [
    "# facciamolo con numpy\n",
    "\n",
    "sigmaEst = np.sqrt(np.sum( np.multiply((y - a-b*x),(y - a-b*x)))/(len(y)-2))\n",
    "sigmaEst"
   ]
  },
  {
   "cell_type": "markdown",
   "metadata": {},
   "source": [
    "### Il modello lineare è corretto?\n",
    "\n",
    "Per sapere se la nostra assunzione di modello lineare è corretta, utilizziamo il **sample Pearson correlation coefficient** $r$ (detto anche coefficiente di correlazione) che misura il grado di dipendenza lineare tra due variabili\n",
    "\n",
    "$$\n",
    "r = \\frac{\\sum_{i=1}^n(X_i-\\bar{X})(Y_i-\\bar{Y})}{\n",
    "\\sqrt{\\sum_{i=1}^n (Y_i-\\bar{Y})^2}\\sqrt{\\sum_{i=1}^n (X_i-\\bar{X})^2}\n",
    "}\n",
    "$$\n",
    "\n",
    "- r assume valori nell’intervallo $[−1, 1]$;\n",
    "\n",
    "- r > 0 se, e solo se la relazione tra x e y è diretta, (a valori più grandi di x\n",
    "corrispondono valori più grandi di y);\n",
    "\n",
    "- r < 0 se, e solo se relazione tra y e x è inversa (a valori più grandi di x\n",
    "corrispondono valori più piccoli di y);\n",
    "\n",
    "- se $r = \\pm 1$ allora la regressione è perfetta e in questo caso i punti sono\n",
    "allineati;\n",
    "\n",
    "- se r = 0 non c'è dipendenza lineare tra le due variabili.\n",
    "\n",
    "Quindi, se i valori sono maggiori di zero (meglio sarebbe se fossero vicino ad $1$), il modello lineare è sufficientemente buono. \n",
    "\n",
    "Il numeratore è legato alla **covarianza** $cov(X,Y)$, mentre il denominatore è il prodotto della **deviazione standard** $\\sigma$ di $X$ con quella di $Y$:\n",
    "\n",
    "$$\n",
    "cov(x,y) = \\frac{1}{n}\\sum_i^n (X_i-\\bar{X})(Y_i-\\bar{Y})\n",
    "\\qquad\\qquad\\qquad\n",
    "\\sigma = \\sqrt{\\frac{\\sum_i^n (X_i-\\bar{X})^2}{n}}\n",
    "$$\n",
    "\n",
    "Svolgendo i calcoli, vediamo che il coefficiente $r\\sim 0.79$. E' quindi più che lecito utilizzare un modello lineare."
   ]
  },
  {
   "cell_type": "code",
   "execution_count": 142,
   "metadata": {},
   "outputs": [
    {
     "data": {
      "text/plain": [
       "0.78963948793531835"
      ]
     },
     "execution_count": 142,
     "metadata": {},
     "output_type": "execute_result"
    }
   ],
   "source": [
    "# primo metodo: tutto a mano con solo le funzioni vettoriali di numpy\n",
    "\n",
    "rNum = np.sum( np.multiply((x-xMean),(y - yMean)))\n",
    "\n",
    "rDen1 = np.sqrt(np.sum( np.multiply((x-xMean),(x-xMean))))\n",
    "rDen2 = np.sqrt(np.sum( np.multiply((y-yMean),(y-yMean))))\n",
    "\n",
    "rCoef = rNum/(rDen1*rDen2)\n",
    "rCoef"
   ]
  },
  {
   "cell_type": "code",
   "execution_count": 137,
   "metadata": {},
   "outputs": [
    {
     "data": {
      "text/plain": [
       "0.78963948793531835"
      ]
     },
     "execution_count": 137,
     "metadata": {},
     "output_type": "execute_result"
    }
   ],
   "source": [
    "# secondo metodo: usando la funzione dev standard di numpy\n",
    "\n",
    "MyCov = np.sum( np.multiply((x-xMean),(y - yMean)))/len(y)\n",
    "rDen = np.std(x)*np.std(y)\n",
    "\n",
    "rCoef = MyCov/rDen\n",
    "rCoef"
   ]
  },
  {
   "cell_type": "code",
   "execution_count": 140,
   "metadata": {},
   "outputs": [
    {
     "data": {
      "text/plain": [
       "0.78963948793531824"
      ]
     },
     "execution_count": 140,
     "metadata": {},
     "output_type": "execute_result"
    }
   ],
   "source": [
    "# terzo metodo: solo con le funzioni di numpy\n",
    "\n",
    "rCoef = np.cov(np.stack((x, y), axis=0), bias=True)/(np.std(x)*np.std(y))\n",
    "rCoef[0,1]"
   ]
  },
  {
   "cell_type": "markdown",
   "metadata": {},
   "source": [
    "### Interpretiamo i risultati\n",
    "\n",
    "Il nostro modello ci ha mostrato che la velocità di recessione delle galassie rispetto alla loro distanza dalla\n",
    "Terra può essere approssimato da un modello lineare\n",
    "\n",
    "$$\n",
    "v_r = H_0 d + a\n",
    "$$\n",
    "\n",
    "dove il coefficiente angolare (il $b$ del calcolo sopra) prende il nome di **costante di Hubble** $H_0$ e vale\n",
    "\n",
    "$$\n",
    "H_0 \\cong 454.16 \\frac{km}{s\\,Mpc}\n",
    "$$\n",
    "\n"
   ]
  },
  {
   "cell_type": "markdown",
   "metadata": {},
   "source": [
    "### Generalizziamo il codice\n",
    "\n",
    "scriviamo ora una funzione che, dato un dataset formato da due colonne (distanza/velocità) ci restituisce i coefficienti $a$ (termine noto) e $b$ (coefficiente angolare) della regressione linare.\n",
    "\n",
    "Sul sito della NASA è possibile estrarre i dati per tutti gli oggetti extragalattici.\n",
    "\n",
    "http://ned.ipac.caltech.edu/ \n",
    "\n",
    "Provate!"
   ]
  },
  {
   "cell_type": "code",
   "execution_count": 99,
   "metadata": {
    "collapsed": true
   },
   "outputs": [],
   "source": [
    "def linReg(dataset):\n",
    "    \n",
    "    x = dataset[:,0]    # selezioniamo la prima colonna\n",
    "    y = dataset[:,1]    # selezioniamo la seconda\n",
    "\n",
    "# calcolo le medie con numpy:\n",
    "\n",
    "    xMean = np.mean(x)\n",
    "    yMean = np.mean(y)\n",
    "\n",
    "# Calcolo ora b, \n",
    "\n",
    "    bNumerator = np.sum(np.multiply((x-xMean),(y-yMean)))\n",
    "    bDenominator = np.sum(np.power(x-xMean,2))\n",
    "\n",
    "    b = bNumerator/bDenominator\n",
    "\n",
    "# calcoliamo a\n",
    "\n",
    "    a = yMean - b*xMean\n",
    "\n",
    "    return a, b\n"
   ]
  }
 ],
 "metadata": {
  "kernelspec": {
   "display_name": "Python 3",
   "language": "python",
   "name": "python3"
  },
  "language_info": {
   "codemirror_mode": {
    "name": "ipython",
    "version": 3
   },
   "file_extension": ".py",
   "mimetype": "text/x-python",
   "name": "python",
   "nbconvert_exporter": "python",
   "pygments_lexer": "ipython3",
   "version": "3.6.3"
  }
 },
 "nbformat": 4,
 "nbformat_minor": 2
}
