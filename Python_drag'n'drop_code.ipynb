{
 "cells": [
  {
   "cell_type": "markdown",
   "metadata": {},
   "source": [
    "## Python drag'n'drop examples!\n",
    "\n",
    "Se non volete stare a ricordarvi i blocchi base di codice, ecco un elenco di alcune operazioni di base. \n",
    "Potete copiare i blocchi, inserirli nel vostro codice e modificarli come volete.\n",
    "\n",
    "**Elenco**\n",
    "\n",
    "0. le variabili\n",
    "1. giocare con le liste\n",
    "2. operazioni matematiche\n",
    "3. ciclo for (for loop)\n",
    "4. blocco condizionale: if clause\n",
    "5. disegnare grafici (matplotlib)\n",
    "\n",
    "**Avvertenze**\n",
    "\n",
    "- ricordatevi di importare le librerie che vi servono.\n",
    "- occhio agli spazi all'inizio delle righe (indentazione).\n",
    "- utilizzate spesso il comando **print()** per controllare i risultati parziali del codice."
   ]
  },
  {
   "cell_type": "markdown",
   "metadata": {},
   "source": [
    "#### 1. le variabili\n",
    "\n",
    "Il tipo di una variabile (intero, numero con la virgola, stringa) viene automaticamente decodificato al momento della definizione:\n",
    "\n",
    "```\n",
    "a = 1\n",
    "a = 'ciao'\n",
    "a = 0.2\n",
    "```"
   ]
  },
  {
   "cell_type": "code",
   "execution_count": 2,
   "metadata": {},
   "outputs": [
    {
     "name": "stdout",
     "output_type": "stream",
     "text": [
      "<class 'int'>\n",
      "<class 'str'>\n",
      "<class 'float'>\n"
     ]
    }
   ],
   "source": [
    "a = 1\n",
    "print(type(a))\n",
    "a = 'ciao'\n",
    "print(type(a))\n",
    "a = 0.2\n",
    "print(type(a))"
   ]
  },
  {
   "cell_type": "markdown",
   "metadata": {},
   "source": [
    "#### 2. usare le liste!\n",
    "\n",
    "L'idea è di utilizzare le liste come \"cassettiera\": potete inserire i vostri oggetti in una lista e richiamarli in un secondo tempo.\n",
    "\n",
    "**definizione di una lista vuota**\n",
    "\n",
    "```\n",
    "lista = []\n",
    "```\n",
    "\n",
    "**definizione di una lista con oggetti**\n",
    "\n",
    "```\n",
    "lista = [1, 2, 10, 'pippo']\n",
    "```\n",
    "\n",
    "**aggiungere un elemento ad una lista**\n",
    "\n",
    "```\n",
    "lista.append('salve!')\n",
    "```\n",
    "\n",
    "**richiamare un oggetto in una lista**\n",
    "\n",
    "```\n",
    "lista[3]\n",
    "```\n",
    "\n",
    "**_ricorda!_** la numerazione degli oggetti nelle liste parte da **zero**!"
   ]
  },
  {
   "cell_type": "code",
   "execution_count": 5,
   "metadata": {},
   "outputs": [
    {
     "name": "stdout",
     "output_type": "stream",
     "text": [
      "[]\n",
      "[1, 2, 10, 'pippo']\n",
      "[1, 2, 10, 'pippo', 'salve!']\n",
      "pippo\n"
     ]
    }
   ],
   "source": [
    "lista = []\n",
    "print(lista)\n",
    "\n",
    "lista = [1, 2, 10, 'pippo']\n",
    "print(lista)\n",
    "\n",
    "lista.append('salve!')\n",
    "print(lista)\n",
    "\n",
    "print(lista[3])"
   ]
  },
  {
   "cell_type": "markdown",
   "metadata": {},
   "source": [
    "#### 3. operazioni matematiche!\n",
    "\n",
    "\n",
    "**Operazioni di base**\n",
    "\n",
    "```\n",
    "1+2\n",
    "1-2\n",
    "3*3\n",
    "3/2\n",
    "3.0/2\n",
    "```\n",
    "\n",
    "**elevazione a potenza**\n",
    "\n",
    "```\n",
    "3**2\n",
    "```\n",
    "\n",
    "**divisione intera**\n",
    "\n",
    "```\n",
    "17//2\n",
    "```\n",
    "\n",
    "**resto di una divisione (modulo)**\n",
    "\n",
    "```\n",
    "3%2\n",
    "```\n",
    "\n",
    "**operazioni booleane**\n",
    "\n",
    "```\n",
    "'ciao'=='ciao'\n",
    "'ciao'=='cia'\n",
    "'ciao'!='ciao'\n",
    "'23'>'1'\n",
    "```"
   ]
  },
  {
   "cell_type": "code",
   "execution_count": 13,
   "metadata": {},
   "outputs": [
    {
     "name": "stdout",
     "output_type": "stream",
     "text": [
      "2.5\n",
      "2\n",
      "1\n",
      "True\n",
      "False\n",
      "False\n",
      "True\n"
     ]
    }
   ],
   "source": [
    "print(5/2)\n",
    "print(5//2)\n",
    "print(5%2)\n",
    "\n",
    "print('ciao'=='ciao')\n",
    "print('ciao'=='cia')\n",
    "print('ciao'!='ciao')\n",
    "print('23'>'1')"
   ]
  },
  {
   "cell_type": "markdown",
   "metadata": {},
   "source": [
    "#### 4. il ciclo for\n",
    "\n",
    "```\n",
    "for i in range(10):\n",
    "    print(i)\n",
    "```\n",
    "- **range(10)** crea una lista di numeri da 0 a 9. dopo il **in** occorre mettere una lista, un vettore, una stringa che contiene i valori che si vogliono considerare nel ciclo\n",
    "- **i** è il contatore: man mano il ciclo scorre aggiorna il valore \n",
    "- occhio ai due punti !\n",
    "- **print(i)** è un esempio. Potete mettere quello che volete!"
   ]
  },
  {
   "cell_type": "code",
   "execution_count": 14,
   "metadata": {},
   "outputs": [
    {
     "name": "stdout",
     "output_type": "stream",
     "text": [
      "0\n",
      "1\n",
      "2\n",
      "3\n",
      "4\n",
      "5\n",
      "6\n",
      "7\n",
      "8\n",
      "9\n"
     ]
    }
   ],
   "source": [
    "for i in range(10):\n",
    "    print(i)"
   ]
  },
  {
   "cell_type": "markdown",
   "metadata": {},
   "source": [
    "#### 5. blocco condizionale: if clause\n",
    "\n",
    "molto semplice. La sintassi di base è\n",
    "\n",
    "```\n",
    "if qualche_condizione :\n",
    "    roba da fare\n",
    "```\n",
    "esempio:\n",
    "```\n",
    "if i%7==0 :\n",
    "    print(i)\n",
    "```\n",
    "\n",
    "per dare un'alternativa si può utilizzare **else**:\n",
    "\n",
    "```\n",
    "if i%7==0 :\n",
    "    print(i)\n",
    "else:\n",
    "    print('il numero dato non è divisible per 7')\n",
    "```\n",
    "\n",
    "è possibile mettere insieme più condizioni!\n",
    "\n",
    "```\n",
    "if (i%7==0) and (i%5!=0):\n",
    "    print('è divisibile per 7 ma non per 5')\n",
    "else:\n",
    "    print('non è divisibile per 7 ma è divisibile per 5')\n",
    "```\n"
   ]
  },
  {
   "cell_type": "code",
   "execution_count": 19,
   "metadata": {},
   "outputs": [
    {
     "name": "stdout",
     "output_type": "stream",
     "text": [
      "è divisibile per 7 ma non per 5\n"
     ]
    }
   ],
   "source": [
    "i = 14\n",
    "\n",
    "if (i%7==0) and (i%5!=0):\n",
    "    print('è divisibile per 7 ma non per 5')\n",
    "else:\n",
    "    print('non è divisibile per 7 ma è divisibile per 5')"
   ]
  },
  {
   "cell_type": "markdown",
   "metadata": {},
   "source": [
    "#### 6. disegnare grafici (matplotlib)\n",
    "\n",
    "la sintassi di base è molto semplice!\n",
    "\n",
    "1. importare la libreria con \n",
    "```\n",
    "import matplotlib.pyplot as plt\n",
    "```\n",
    "2. creare ad esempio una lista con i punti in ascissa\n",
    "```\n",
    "x = [0.1, 0.6, 1.2, 2, 2.5]\n",
    "```\n",
    "3. creare una lista con i punti in ordinata (**attenzione!** in ascissa e in ordinata si deve avere lo stesso numero di punti.)\n",
    "```\n",
    "y = [0,2,3,4,5]\n",
    "```\n",
    "\n",
    "4. creare il grafico (plot)\n",
    "```\n",
    "plt.plot(x,y)\n",
    "```"
   ]
  },
  {
   "cell_type": "code",
   "execution_count": 25,
   "metadata": {},
   "outputs": [
    {
     "data": {
      "text/plain": [
       "[<matplotlib.lines.Line2D at 0x119de4b70>]"
      ]
     },
     "execution_count": 25,
     "metadata": {},
     "output_type": "execute_result"
    },
    {
     "data": {
      "image/png": "[encoded data removed]",
      "text/plain": [
       "<matplotlib.figure.Figure at 0x1116bdcf8>"
      ]
     },
     "metadata": {},
     "output_type": "display_data"
    }
   ],
   "source": [
    "import matplotlib.pyplot as plt\n",
    "%matplotlib inline\n",
    "\n",
    "x = [0.1, 0.6, 1.2, 2, 2.5]\n",
    "y = [0,2,3,4,5]\n",
    "\n",
    "plt.plot(x,y)"
   ]
  },
  {
   "cell_type": "markdown",
   "metadata": {},
   "source": [
    "Volendo fare qualcosa di più raffinato si può utilizzare una libreria matematica: **numpy**:\n",
    "```\n",
    "import numpy as np\n",
    "```\n",
    "che ci permette di usare vettori, matrici, creare un vettore (elenco di numeri più evoluto di una lista) con la spaziatura che ci piace (tipo **range**, ma più versatile) e applicare funzioni:\n",
    "oppure si possono usare funzioni\n",
    "```\n",
    "x = np.linspace(-1,1,10)\n",
    "y = x**2-1\n",
    "\n",
    "plt.plot(x,y)\n",
    "\n",
    "```"
   ]
  },
  {
   "cell_type": "code",
   "execution_count": 35,
   "metadata": {},
   "outputs": [
    {
     "name": "stdout",
     "output_type": "stream",
     "text": [
      "[-1.         -0.77777778 -0.55555556 -0.33333333 -0.11111111  0.11111111\n",
      "  0.33333333  0.55555556  0.77777778  1.        ]\n"
     ]
    },
    {
     "data": {
      "text/plain": [
       "[<matplotlib.lines.Line2D at 0x11a6b8198>]"
      ]
     },
     "execution_count": 35,
     "metadata": {},
     "output_type": "execute_result"
    },
    {
     "data": {
      "image/png": "[encoded data removed]",
      "text/plain": [
       "<matplotlib.figure.Figure at 0x11a3f70b8>"
      ]
     },
     "metadata": {},
     "output_type": "display_data"
    }
   ],
   "source": [
    "import numpy as np\n",
    "\n",
    "x = np.linspace(-1,1,10)\n",
    "y = x**2 -1\n",
    "\n",
    "print(x)\n",
    "\n",
    "plt.plot(x,y)"
   ]
  }
 ],
 "metadata": {
  "kernelspec": {
   "display_name": "Python 3",
   "language": "python",
   "name": "python3"
  },
  "language_info": {
   "codemirror_mode": {
    "name": "ipython",
    "version": 3
   },
   "file_extension": ".py",
   "mimetype": "text/x-python",
   "name": "python",
   "nbconvert_exporter": "python",
   "pygments_lexer": "ipython3",
   "version": "3.6.2"
  }
 },
 "nbformat": 4,
 "nbformat_minor": 2
}
